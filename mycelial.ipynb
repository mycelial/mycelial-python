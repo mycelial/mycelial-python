{
 "cells": [
  {
   "cell_type": "code",
   "execution_count": 1,
   "id": "e917aac9",
   "metadata": {},
   "outputs": [
    {
     "name": "stdout",
     "output_type": "stream",
     "text": [
      "Processing ./target/wheels/mycelial_python-0.1.0-cp310-cp310-macosx_11_0_arm64.whl\n",
      "Installing collected packages: mycelial-python\n",
      "  Attempting uninstall: mycelial-python\n",
      "    Found existing installation: mycelial-python 0.1.0\n",
      "    Uninstalling mycelial-python-0.1.0:\n",
      "      Successfully uninstalled mycelial-python-0.1.0\n",
      "Successfully installed mycelial-python-0.1.0\n"
     ]
    }
   ],
   "source": [
    "!pip install --force-reinstall target/wheels/mycelial_python-0.1.0-cp310-cp310-macosx_11_0_arm64.whl"
   ]
  },
  {
   "cell_type": "code",
   "execution_count": 2,
   "id": "7ece2a06",
   "metadata": {},
   "outputs": [],
   "source": [
    "import mycelial\n",
    "\n",
    "l = mycelial.List(0)\n",
    "l.append(True)\n",
    "l.append(0.1)\n",
    "l.append(\"hello\")\n",
    "l.append([[False, 0.0, \"world\"], []])"
   ]
  },
  {
   "cell_type": "code",
   "execution_count": 3,
   "id": "467f174c",
   "metadata": {},
   "outputs": [
    {
     "data": {
      "text/plain": [
       "[True, 0.1, 'hello', [[False, 0.0, 'world'], []]]"
      ]
     },
     "execution_count": 3,
     "metadata": {},
     "output_type": "execute_result"
    }
   ],
   "source": [
    "l.to_vec()"
   ]
  },
  {
   "cell_type": "code",
   "execution_count": 4,
   "id": "1fc329c2",
   "metadata": {},
   "outputs": [
    {
     "data": {
      "text/plain": [
       "'{\"0\":4}'"
      ]
     },
     "execution_count": 4,
     "metadata": {},
     "output_type": "execute_result"
    }
   ],
   "source": [
    "l.vclock()"
   ]
  },
  {
   "cell_type": "code",
   "execution_count": 5,
   "id": "bfeba51f",
   "metadata": {},
   "outputs": [
    {
     "data": {
      "text/plain": [
       "'[{\"key\":{\"id\":[[0,[]],[1,[1]]],\"process\":0,\"op\":1},\"value\":{\"Bool\":true}},{\"key\":{\"id\":[[1,[1]],[1,[1]]],\"process\":0,\"op\":2},\"value\":{\"Float\":0.1}},{\"key\":{\"id\":[[1,[2]],[1,[1]]],\"process\":0,\"op\":3},\"value\":{\"Str\":\"hello\"}},{\"key\":{\"id\":[[1,[3]],[1,[1]]],\"process\":0,\"op\":4},\"value\":{\"Vec\":[{\"Vec\":[{\"Bool\":false},{\"Float\":0.0},{\"Str\":\"world\"}]},{\"Vec\":[]}]}}]'"
      ]
     },
     "execution_count": 5,
     "metadata": {},
     "output_type": "execute_result"
    }
   ],
   "source": [
    "l.diff('{}')"
   ]
  }
 ],
 "metadata": {
  "kernelspec": {
   "display_name": "Python 3 (ipykernel)",
   "language": "python",
   "name": "python3"
  },
  "language_info": {
   "codemirror_mode": {
    "name": "ipython",
    "version": 3
   },
   "file_extension": ".py",
   "mimetype": "text/x-python",
   "name": "python",
   "nbconvert_exporter": "python",
   "pygments_lexer": "ipython3",
   "version": "3.10.6"
  }
 },
 "nbformat": 4,
 "nbformat_minor": 5
}
