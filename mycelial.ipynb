{
 "cells": [
  {
   "cell_type": "markdown",
   "id": "4ecfd994",
   "metadata": {},
   "source": [
    "## Mycelial library demo"
   ]
  },
  {
   "cell_type": "markdown",
   "id": "0d605fea",
   "metadata": {},
   "source": [
    "## Install latest wheel"
   ]
  },
  {
   "cell_type": "code",
   "execution_count": 1,
   "id": "fa1ec43a",
   "metadata": {},
   "outputs": [
    {
     "name": "stdout",
     "output_type": "stream",
     "text": [
      "Requirement already satisfied: mycelial==0.2.0 in /Users/d/.virtualenvs/py3/lib/python3.10/site-packages (0.2.0)\r\n",
      "Requirement already satisfied: websockets==10.3 in /Users/d/.virtualenvs/py3/lib/python3.10/site-packages (from mycelial==0.2.0) (10.3)\r\n"
     ]
    }
   ],
   "source": [
    "!pip install mycelial==0.2.0"
   ]
  },
  {
   "cell_type": "code",
   "execution_count": 2,
   "id": "7ece2a06",
   "metadata": {},
   "outputs": [],
   "source": [
    "import mycelial\n",
    "import asyncio"
   ]
  },
  {
   "cell_type": "markdown",
   "id": "b77e5fa4",
   "metadata": {},
   "source": [
    "### Initialize peers\n",
    "### By default peers will connect to mycelial relay via websocket"
   ]
  },
  {
   "cell_type": "code",
   "execution_count": 3,
   "id": "467f174c",
   "metadata": {},
   "outputs": [
    {
     "data": {
      "text/plain": [
       "922279625456558621"
      ]
     },
     "execution_count": 3,
     "metadata": {},
     "output_type": "execute_result"
    }
   ],
   "source": [
    "peer_1 = mycelial.Mycelial()\n",
    "peer_1.peer_id"
   ]
  },
  {
   "cell_type": "code",
   "execution_count": 4,
   "id": "3625df30",
   "metadata": {},
   "outputs": [
    {
     "data": {
      "text/plain": [
       "13749532666420056257"
      ]
     },
     "execution_count": 4,
     "metadata": {},
     "output_type": "execute_result"
    }
   ],
   "source": [
    "peer_2 = mycelial.Mycelial()\n",
    "peer_2.peer_id"
   ]
  },
  {
   "cell_type": "markdown",
   "id": "12f5db48",
   "metadata": {},
   "source": [
    "### Checking peer states"
   ]
  },
  {
   "cell_type": "code",
   "execution_count": 5,
   "id": "980ef1eb",
   "metadata": {},
   "outputs": [
    {
     "data": {
      "text/plain": [
       "([], [])"
      ]
     },
     "execution_count": 5,
     "metadata": {},
     "output_type": "execute_result"
    }
   ],
   "source": [
    "peer_1.to_vec(), peer_2.to_vec()"
   ]
  },
  {
   "cell_type": "markdown",
   "id": "e4e87381",
   "metadata": {},
   "source": [
    "### Modifying state of first peer"
   ]
  },
  {
   "cell_type": "code",
   "execution_count": 6,
   "id": "1fc329c2",
   "metadata": {},
   "outputs": [],
   "source": [
    "peer_1.append('hello from peer 1')"
   ]
  },
  {
   "cell_type": "code",
   "execution_count": 7,
   "id": "39255036",
   "metadata": {},
   "outputs": [
    {
     "data": {
      "text/plain": [
       "['hello from peer 1']"
      ]
     },
     "execution_count": 7,
     "metadata": {},
     "output_type": "execute_result"
    }
   ],
   "source": [
    "peer_1.to_vec()"
   ]
  },
  {
   "cell_type": "markdown",
   "id": "6aad6d09",
   "metadata": {},
   "source": [
    "## Changes should be reflected in the state of second peer"
   ]
  },
  {
   "cell_type": "code",
   "execution_count": 8,
   "id": "ad91ea40",
   "metadata": {},
   "outputs": [
    {
     "data": {
      "text/plain": [
       "[]"
      ]
     },
     "execution_count": 8,
     "metadata": {},
     "output_type": "execute_result"
    }
   ],
   "source": [
    "peer_2.to_vec()"
   ]
  },
  {
   "cell_type": "markdown",
   "id": "3c474e1e",
   "metadata": {},
   "source": [
    "## Modifying state of second peer"
   ]
  },
  {
   "cell_type": "code",
   "execution_count": 9,
   "id": "d58cc6c5",
   "metadata": {},
   "outputs": [],
   "source": [
    "peer_2.append('hello from peer 2')"
   ]
  },
  {
   "cell_type": "markdown",
   "id": "ee9e7481",
   "metadata": {},
   "source": [
    "## Checking peer states"
   ]
  },
  {
   "cell_type": "code",
   "execution_count": 10,
   "id": "a2040ba0",
   "metadata": {},
   "outputs": [
    {
     "data": {
      "text/plain": [
       "(['hello from peer 1', 'hello from peer 2'],\n",
       " ['hello from peer 1', 'hello from peer 2'])"
      ]
     },
     "execution_count": 10,
     "metadata": {},
     "output_type": "execute_result"
    }
   ],
   "source": [
    "## give it a moment to connect and converge\n",
    "await asyncio.sleep(3)\n",
    "peer_1.to_vec(), peer_2.to_vec()"
   ]
  }
 ],
 "metadata": {
  "kernelspec": {
   "display_name": "Python 3 (ipykernel)",
   "language": "python",
   "name": "python3"
  },
  "language_info": {
   "codemirror_mode": {
    "name": "ipython",
    "version": 3
   },
   "file_extension": ".py",
   "mimetype": "text/x-python",
   "name": "python",
   "nbconvert_exporter": "python",
   "pygments_lexer": "ipython3",
   "version": "3.10.6"
  }
 },
 "nbformat": 4,
 "nbformat_minor": 5
}
